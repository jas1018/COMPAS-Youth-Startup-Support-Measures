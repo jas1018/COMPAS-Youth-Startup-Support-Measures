{
 "cells": [
  {
   "cell_type": "code",
   "execution_count": 17,
   "metadata": {},
   "outputs": [],
   "source": [
    "import pandas as pd"
   ]
  },
  {
   "cell_type": "code",
   "execution_count": 18,
   "metadata": {},
   "outputs": [
    {
     "data": {
      "text/html": [
       "<div>\n",
       "<style scoped>\n",
       "    .dataframe tbody tr th:only-of-type {\n",
       "        vertical-align: middle;\n",
       "    }\n",
       "\n",
       "    .dataframe tbody tr th {\n",
       "        vertical-align: top;\n",
       "    }\n",
       "\n",
       "    .dataframe thead th {\n",
       "        text-align: right;\n",
       "    }\n",
       "</style>\n",
       "<table border=\"1\" class=\"dataframe\">\n",
       "  <thead>\n",
       "    <tr style=\"text-align: right;\">\n",
       "      <th></th>\n",
       "      <th>대분류코드</th>\n",
       "      <th>중분류코드</th>\n",
       "      <th>소분류코드</th>\n",
       "      <th>표준산업분류코드</th>\n",
       "      <th>표준산업분류명</th>\n",
       "      <th>행정동코드</th>\n",
       "      <th>행정동명</th>\n",
       "      <th>도로명주소</th>\n",
       "      <th>경도</th>\n",
       "      <th>위도</th>\n",
       "    </tr>\n",
       "  </thead>\n",
       "  <tbody>\n",
       "    <tr>\n",
       "      <th>0</th>\n",
       "      <td>Q</td>\n",
       "      <td>Q09</td>\n",
       "      <td>Q09A10</td>\n",
       "      <td>I56211</td>\n",
       "      <td>일반유흥 주점업</td>\n",
       "      <td>4146551000</td>\n",
       "      <td>풍덕천1동</td>\n",
       "      <td>경기도 용인시 수지구 풍덕천로139번길 6-5</td>\n",
       "      <td>127.096851</td>\n",
       "      <td>37.324611</td>\n",
       "    </tr>\n",
       "    <tr>\n",
       "      <th>1</th>\n",
       "      <td>Q</td>\n",
       "      <td>Q01</td>\n",
       "      <td>Q01A08</td>\n",
       "      <td>I56111</td>\n",
       "      <td>한식 음식점업</td>\n",
       "      <td>4146551000</td>\n",
       "      <td>풍덕천1동</td>\n",
       "      <td>경기도 용인시 수지구 풍덕천로190번길 23</td>\n",
       "      <td>127.102347</td>\n",
       "      <td>37.324553</td>\n",
       "    </tr>\n",
       "    <tr>\n",
       "      <th>2</th>\n",
       "      <td>Q</td>\n",
       "      <td>Q01</td>\n",
       "      <td>Q01A01</td>\n",
       "      <td>I56111</td>\n",
       "      <td>한식 음식점업</td>\n",
       "      <td>4146352000</td>\n",
       "      <td>구갈동</td>\n",
       "      <td>경기도 용인시 기흥구 갈곡로7번길 8</td>\n",
       "      <td>127.128573</td>\n",
       "      <td>37.272405</td>\n",
       "    </tr>\n",
       "    <tr>\n",
       "      <th>3</th>\n",
       "      <td>Q</td>\n",
       "      <td>Q09</td>\n",
       "      <td>Q09A10</td>\n",
       "      <td>I56211</td>\n",
       "      <td>일반유흥 주점업</td>\n",
       "      <td>4146151000</td>\n",
       "      <td>중앙동</td>\n",
       "      <td>경기도 용인시 처인구 금령로71번길 2</td>\n",
       "      <td>127.204204</td>\n",
       "      <td>37.235371</td>\n",
       "    </tr>\n",
       "    <tr>\n",
       "      <th>4</th>\n",
       "      <td>Q</td>\n",
       "      <td>Q10</td>\n",
       "      <td>Q10A01</td>\n",
       "      <td>I56111</td>\n",
       "      <td>한식 음식점업</td>\n",
       "      <td>4146359000</td>\n",
       "      <td>보정동</td>\n",
       "      <td>경기도 용인시 기흥구 죽전로 50</td>\n",
       "      <td>127.114245</td>\n",
       "      <td>37.320282</td>\n",
       "    </tr>\n",
       "    <tr>\n",
       "      <th>...</th>\n",
       "      <td>...</td>\n",
       "      <td>...</td>\n",
       "      <td>...</td>\n",
       "      <td>...</td>\n",
       "      <td>...</td>\n",
       "      <td>...</td>\n",
       "      <td>...</td>\n",
       "      <td>...</td>\n",
       "      <td>...</td>\n",
       "      <td>...</td>\n",
       "    </tr>\n",
       "    <tr>\n",
       "      <th>39901</th>\n",
       "      <td>D</td>\n",
       "      <td>D24</td>\n",
       "      <td>D24A03</td>\n",
       "      <td>NaN</td>\n",
       "      <td>NaN</td>\n",
       "      <td>4146353500</td>\n",
       "      <td>보라동</td>\n",
       "      <td>경기도 용인시 기흥구 용구대로1890번길 16</td>\n",
       "      <td>127.105963</td>\n",
       "      <td>37.257377</td>\n",
       "    </tr>\n",
       "    <tr>\n",
       "      <th>39902</th>\n",
       "      <td>L</td>\n",
       "      <td>L01</td>\n",
       "      <td>L01A01</td>\n",
       "      <td>L68221</td>\n",
       "      <td>부동산 자문 및 중개업</td>\n",
       "      <td>4146351500</td>\n",
       "      <td>NaN</td>\n",
       "      <td>경기도 용인시 기흥구 덕영대로 1981-1</td>\n",
       "      <td>127.098493</td>\n",
       "      <td>37.261763</td>\n",
       "    </tr>\n",
       "    <tr>\n",
       "      <th>39903</th>\n",
       "      <td>Q</td>\n",
       "      <td>Q01</td>\n",
       "      <td>Q01A03</td>\n",
       "      <td>I56111</td>\n",
       "      <td>한식 음식점업</td>\n",
       "      <td>4146351000</td>\n",
       "      <td>신갈동</td>\n",
       "      <td>경기도 용인시 기흥구 신갈로58번길 8-1</td>\n",
       "      <td>127.106817</td>\n",
       "      <td>37.271945</td>\n",
       "    </tr>\n",
       "    <tr>\n",
       "      <th>39904</th>\n",
       "      <td>Q</td>\n",
       "      <td>Q12</td>\n",
       "      <td>Q12A01</td>\n",
       "      <td>I56220</td>\n",
       "      <td>비알콜 음료점업</td>\n",
       "      <td>4146152000</td>\n",
       "      <td>역삼동</td>\n",
       "      <td>경기도 용인시 처인구 중부대로 1294</td>\n",
       "      <td>127.188290</td>\n",
       "      <td>37.235470</td>\n",
       "    </tr>\n",
       "    <tr>\n",
       "      <th>39905</th>\n",
       "      <td>D</td>\n",
       "      <td>D05</td>\n",
       "      <td>D05A05</td>\n",
       "      <td>G47416</td>\n",
       "      <td>셔츠 및 기타 의복 소매업</td>\n",
       "      <td>4146359000</td>\n",
       "      <td>보정동</td>\n",
       "      <td>경기도 용인시 기흥구 이현로 34</td>\n",
       "      <td>127.098113</td>\n",
       "      <td>37.308752</td>\n",
       "    </tr>\n",
       "  </tbody>\n",
       "</table>\n",
       "<p>39906 rows × 10 columns</p>\n",
       "</div>"
      ],
      "text/plain": [
       "      대분류코드 중분류코드   소분류코드 표준산업분류코드         표준산업분류명       행정동코드   행정동명  \\\n",
       "0         Q   Q09  Q09A10   I56211        일반유흥 주점업  4146551000  풍덕천1동   \n",
       "1         Q   Q01  Q01A08   I56111         한식 음식점업  4146551000  풍덕천1동   \n",
       "2         Q   Q01  Q01A01   I56111         한식 음식점업  4146352000    구갈동   \n",
       "3         Q   Q09  Q09A10   I56211        일반유흥 주점업  4146151000    중앙동   \n",
       "4         Q   Q10  Q10A01   I56111         한식 음식점업  4146359000    보정동   \n",
       "...     ...   ...     ...      ...             ...         ...    ...   \n",
       "39901     D   D24  D24A03      NaN             NaN  4146353500    보라동   \n",
       "39902     L   L01  L01A01   L68221    부동산 자문 및 중개업  4146351500    NaN   \n",
       "39903     Q   Q01  Q01A03   I56111         한식 음식점업  4146351000    신갈동   \n",
       "39904     Q   Q12  Q12A01   I56220        비알콜 음료점업  4146152000    역삼동   \n",
       "39905     D   D05  D05A05   G47416  셔츠 및 기타 의복 소매업  4146359000    보정동   \n",
       "\n",
       "                           도로명주소          경도         위도  \n",
       "0      경기도 용인시 수지구 풍덕천로139번길 6-5  127.096851  37.324611  \n",
       "1       경기도 용인시 수지구 풍덕천로190번길 23  127.102347  37.324553  \n",
       "2           경기도 용인시 기흥구 갈곡로7번길 8  127.128573  37.272405  \n",
       "3          경기도 용인시 처인구 금령로71번길 2  127.204204  37.235371  \n",
       "4             경기도 용인시 기흥구 죽전로 50  127.114245  37.320282  \n",
       "...                          ...         ...        ...  \n",
       "39901  경기도 용인시 기흥구 용구대로1890번길 16  127.105963  37.257377  \n",
       "39902    경기도 용인시 기흥구 덕영대로 1981-1  127.098493  37.261763  \n",
       "39903    경기도 용인시 기흥구 신갈로58번길 8-1  127.106817  37.271945  \n",
       "39904      경기도 용인시 처인구 중부대로 1294  127.188290  37.235470  \n",
       "39905         경기도 용인시 기흥구 이현로 34  127.098113  37.308752  \n",
       "\n",
       "[39906 rows x 10 columns]"
      ]
     },
     "execution_count": 18,
     "metadata": {},
     "output_type": "execute_result"
    }
   ],
   "source": [
    "df = pd.read_csv('../data/1.용인시_상권_정보.csv',encoding='utf-8')\n",
    "df"
   ]
  },
  {
   "cell_type": "code",
   "execution_count": 19,
   "metadata": {},
   "outputs": [],
   "source": [
    "geo_data = '../data/11.용인시_법정경계(시군구).geojson'"
   ]
  },
  {
   "cell_type": "code",
   "execution_count": 26,
   "metadata": {},
   "outputs": [
    {
     "data": {
      "text/plain": [
       "array(['Q', 'F', 'R', 'L', 'D', 'N', 'O', 'P'], dtype=object)"
      ]
     },
     "execution_count": 26,
     "metadata": {},
     "output_type": "execute_result"
    }
   ],
   "source": [
    "df[\"대분류코드\"].unique()"
   ]
  },
  {
   "cell_type": "code",
   "execution_count": 28,
   "metadata": {},
   "outputs": [],
   "source": [
    "color_dict={'Q':'#de5537','F':'#ffc300 ','R':'#16a085','L':'#2573d5',\n",
    "            'D':'#7e2300','N':'#1e1b51','O':'#f405c6','P':'#7a5c1c'}"
   ]
  },
  {
   "cell_type": "code",
   "execution_count": 20,
   "metadata": {},
   "outputs": [],
   "source": [
    "center= [37.2410864,127.1775537]"
   ]
  },
  {
   "cell_type": "code",
   "execution_count": 21,
   "metadata": {},
   "outputs": [],
   "source": [
    "import folium"
   ]
  },
  {
   "cell_type": "code",
   "execution_count": 36,
   "metadata": {},
   "outputs": [],
   "source": [
    "m = folium.Map(location=center, zoom_start=10)\n",
    "\n",
    "\n",
    "for i in df.index[:100]:\n",
    "    for var in color_dict:\n",
    "        folium.Circle(location=df.loc[i,['위도','경도']], \n",
    "             tooltip =df.loc[i,'대분류코드'],color=color_dict[df.loc[i,'대분류코드']], radius=50).add_to(m)"
   ]
  },
  {
   "cell_type": "code",
   "execution_count": null,
   "metadata": {},
   "outputs": [],
   "source": [
    "m"
   ]
  },
  {
   "cell_type": "code",
   "execution_count": null,
   "metadata": {},
   "outputs": [],
   "source": []
  }
 ],
 "metadata": {
  "kernelspec": {
   "display_name": "Python 3",
   "language": "python",
   "name": "python3"
  },
  "language_info": {
   "codemirror_mode": {
    "name": "ipython",
    "version": 3
   },
   "file_extension": ".py",
   "mimetype": "text/x-python",
   "name": "python",
   "nbconvert_exporter": "python",
   "pygments_lexer": "ipython3",
   "version": "3.6.9"
  }
 },
 "nbformat": 4,
 "nbformat_minor": 2
}
